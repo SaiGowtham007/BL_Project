{
 "cells": [
  {
   "cell_type": "code",
   "execution_count": 1,
   "metadata": {
    "colab": {
     "base_uri": "https://localhost:8080/"
    },
    "id": "8QJLvb7D2P2O",
    "outputId": "eaf36d84-0578-473d-f187-9946937fc53a"
   },
   "outputs": [],
   "source": [
    "#pip install --upgrade pandas"
   ]
  },
  {
   "cell_type": "code",
   "execution_count": 2,
   "metadata": {
    "colab": {
     "base_uri": "https://localhost:8080/"
    },
    "id": "PwRR0_dU2QJv",
    "outputId": "e0c92de0-3863-4ed4-d8c4-bbd4510ec821"
   },
   "outputs": [],
   "source": [
    "#pip install plotting"
   ]
  },
  {
   "cell_type": "code",
   "execution_count": 3,
   "metadata": {
    "colab": {
     "base_uri": "https://localhost:8080/"
    },
    "id": "26IkZDsf2bin",
    "outputId": "b7274d1a-990f-47d3-9550-cd7a27f64e08"
   },
   "outputs": [],
   "source": [
    "#pip install ggplot"
   ]
  },
  {
   "cell_type": "code",
   "execution_count": 4,
   "metadata": {
    "colab": {
     "base_uri": "https://localhost:8080/"
    },
    "id": "VJQv0lcB2g5v",
    "outputId": "96c82c6f-ddc2-4da5-ead2-5d11ea6d0f1c"
   },
   "outputs": [],
   "source": [
    "#pip install fancyimpute"
   ]
  },
  {
   "cell_type": "code",
   "execution_count": 5,
   "metadata": {
    "colab": {
     "base_uri": "https://localhost:8080/",
     "height": 409
    },
    "id": "NHom5cqONKrr",
    "outputId": "456d4c4d-b284-48ca-e498-da824a763f67"
   },
   "outputs": [
    {
     "name": "stdout",
     "output_type": "stream",
     "text": [
      "   age  ed  employ  address  income  debtinc   creddebt   othdebt  default\n",
      "0   41   3      17       12     176      9.3  11.359392  5.008608      1.0\n",
      "1   27   1      10        6      31     17.3   1.362202  4.000798      0.0\n",
      "2   40   1      15       14      55      5.5   0.856075  2.168925      0.0\n",
      "3   41   1      15       14     120      2.9   2.658720  0.821280      0.0\n",
      "4   24   2       2        0      28     17.3   1.787436  3.056564      1.0\n"
     ]
    },
    {
     "data": {
      "text/html": [
       "<div>\n",
       "<style scoped>\n",
       "    .dataframe tbody tr th:only-of-type {\n",
       "        vertical-align: middle;\n",
       "    }\n",
       "\n",
       "    .dataframe tbody tr th {\n",
       "        vertical-align: top;\n",
       "    }\n",
       "\n",
       "    .dataframe thead th {\n",
       "        text-align: right;\n",
       "    }\n",
       "</style>\n",
       "<table border=\"1\" class=\"dataframe\">\n",
       "  <thead>\n",
       "    <tr style=\"text-align: right;\">\n",
       "      <th></th>\n",
       "      <th>age</th>\n",
       "      <th>ed</th>\n",
       "      <th>employ</th>\n",
       "      <th>address</th>\n",
       "      <th>income</th>\n",
       "      <th>debtinc</th>\n",
       "      <th>creddebt</th>\n",
       "      <th>othdebt</th>\n",
       "      <th>default</th>\n",
       "    </tr>\n",
       "  </thead>\n",
       "  <tbody>\n",
       "    <tr>\n",
       "      <th>count</th>\n",
       "      <td>5.00000</td>\n",
       "      <td>5.000000</td>\n",
       "      <td>5.000000</td>\n",
       "      <td>5.00000</td>\n",
       "      <td>5.000000</td>\n",
       "      <td>5.000000</td>\n",
       "      <td>5.000000</td>\n",
       "      <td>5.000000</td>\n",
       "      <td>5.000000</td>\n",
       "    </tr>\n",
       "    <tr>\n",
       "      <th>mean</th>\n",
       "      <td>34.60000</td>\n",
       "      <td>1.600000</td>\n",
       "      <td>11.800000</td>\n",
       "      <td>9.20000</td>\n",
       "      <td>82.000000</td>\n",
       "      <td>10.460000</td>\n",
       "      <td>3.604765</td>\n",
       "      <td>3.011235</td>\n",
       "      <td>0.400000</td>\n",
       "    </tr>\n",
       "    <tr>\n",
       "      <th>std</th>\n",
       "      <td>8.38451</td>\n",
       "      <td>0.894427</td>\n",
       "      <td>6.058052</td>\n",
       "      <td>6.09918</td>\n",
       "      <td>64.276745</td>\n",
       "      <td>6.645901</td>\n",
       "      <td>4.385097</td>\n",
       "      <td>1.618346</td>\n",
       "      <td>0.547723</td>\n",
       "    </tr>\n",
       "    <tr>\n",
       "      <th>min</th>\n",
       "      <td>24.00000</td>\n",
       "      <td>1.000000</td>\n",
       "      <td>2.000000</td>\n",
       "      <td>0.00000</td>\n",
       "      <td>28.000000</td>\n",
       "      <td>2.900000</td>\n",
       "      <td>0.856075</td>\n",
       "      <td>0.821280</td>\n",
       "      <td>0.000000</td>\n",
       "    </tr>\n",
       "    <tr>\n",
       "      <th>25%</th>\n",
       "      <td>27.00000</td>\n",
       "      <td>1.000000</td>\n",
       "      <td>10.000000</td>\n",
       "      <td>6.00000</td>\n",
       "      <td>31.000000</td>\n",
       "      <td>5.500000</td>\n",
       "      <td>1.362202</td>\n",
       "      <td>2.168925</td>\n",
       "      <td>0.000000</td>\n",
       "    </tr>\n",
       "    <tr>\n",
       "      <th>50%</th>\n",
       "      <td>40.00000</td>\n",
       "      <td>1.000000</td>\n",
       "      <td>15.000000</td>\n",
       "      <td>12.00000</td>\n",
       "      <td>55.000000</td>\n",
       "      <td>9.300000</td>\n",
       "      <td>1.787436</td>\n",
       "      <td>3.056564</td>\n",
       "      <td>0.000000</td>\n",
       "    </tr>\n",
       "    <tr>\n",
       "      <th>75%</th>\n",
       "      <td>41.00000</td>\n",
       "      <td>2.000000</td>\n",
       "      <td>15.000000</td>\n",
       "      <td>14.00000</td>\n",
       "      <td>120.000000</td>\n",
       "      <td>17.300000</td>\n",
       "      <td>2.658720</td>\n",
       "      <td>4.000798</td>\n",
       "      <td>1.000000</td>\n",
       "    </tr>\n",
       "    <tr>\n",
       "      <th>max</th>\n",
       "      <td>41.00000</td>\n",
       "      <td>3.000000</td>\n",
       "      <td>17.000000</td>\n",
       "      <td>14.00000</td>\n",
       "      <td>176.000000</td>\n",
       "      <td>17.300000</td>\n",
       "      <td>11.359392</td>\n",
       "      <td>5.008608</td>\n",
       "      <td>1.000000</td>\n",
       "    </tr>\n",
       "  </tbody>\n",
       "</table>\n",
       "</div>"
      ],
      "text/plain": [
       "            age        ed     employ   address      income    debtinc  \\\n",
       "count   5.00000  5.000000   5.000000   5.00000    5.000000   5.000000   \n",
       "mean   34.60000  1.600000  11.800000   9.20000   82.000000  10.460000   \n",
       "std     8.38451  0.894427   6.058052   6.09918   64.276745   6.645901   \n",
       "min    24.00000  1.000000   2.000000   0.00000   28.000000   2.900000   \n",
       "25%    27.00000  1.000000  10.000000   6.00000   31.000000   5.500000   \n",
       "50%    40.00000  1.000000  15.000000  12.00000   55.000000   9.300000   \n",
       "75%    41.00000  2.000000  15.000000  14.00000  120.000000  17.300000   \n",
       "max    41.00000  3.000000  17.000000  14.00000  176.000000  17.300000   \n",
       "\n",
       "        creddebt   othdebt   default  \n",
       "count   5.000000  5.000000  5.000000  \n",
       "mean    3.604765  3.011235  0.400000  \n",
       "std     4.385097  1.618346  0.547723  \n",
       "min     0.856075  0.821280  0.000000  \n",
       "25%     1.362202  2.168925  0.000000  \n",
       "50%     1.787436  3.056564  0.000000  \n",
       "75%     2.658720  4.000798  1.000000  \n",
       "max    11.359392  5.008608  1.000000  "
      ]
     },
     "execution_count": 5,
     "metadata": {},
     "output_type": "execute_result"
    }
   ],
   "source": [
    "\n",
    "import pandas as pd\n",
    "bank=pd.read_csv('C:/Users/saigo/Desktop/s/bank-loan.csv')\n",
    "print(bank.head(5))\n",
    "bank.head(5).describe()"
   ]
  },
  {
   "cell_type": "code",
   "execution_count": 6,
   "metadata": {
    "id": "LbaOE-tmJUKQ"
   },
   "outputs": [],
   "source": [
    "bank.rename(columns = {'default':'result'}, inplace = True)\n"
   ]
  },
  {
   "cell_type": "code",
   "execution_count": 7,
   "metadata": {
    "id": "05bhlnH_K7bE"
   },
   "outputs": [],
   "source": [
    "import numpy as np\n",
    "import pandas as pd\n",
    "import matplotlib.pyplot as plt\n",
    "import seaborn as sns\n",
    "sns.set()\n",
    "%matplotlib inline\n",
    "from sklearn.model_selection import cross_val_score\n",
    "from sklearn.model_selection import train_test_split\n",
    "from sklearn.ensemble import RandomForestClassifier\n",
    "from sklearn.metrics import accuracy_score\n",
    "from sklearn.metrics import classification_report\n",
    "from sklearn.preprocessing import StandardScaler\n",
    "from sklearn.pipeline import make_pipeline\n",
    "from sklearn import svm\n",
    "from sklearn.preprocessing import scale\n",
    "from sklearn.model_selection import GridSearchCV\n",
    "from sklearn.linear_model import LogisticRegression\n",
    "from sklearn.metrics import precision_recall_curve\n",
    "from sklearn.metrics import auc\n",
    "from sklearn.metrics import roc_curve\n",
    "from sklearn.metrics import roc_auc_score\n",
    "from sklearn.decomposition import PCA\n",
    "from sklearn.ensemble import GradientBoostingClassifier\n",
    "from fancyimpute import KNN  "
   ]
  },
  {
   "cell_type": "code",
   "execution_count": 8,
   "metadata": {
    "colab": {
     "base_uri": "https://localhost:8080/"
    },
    "id": "c0wR48GpK7bG",
    "outputId": "ae5a4f37-76cd-41cf-f3dc-14f1b9b19eb2",
    "scrolled": false
   },
   "outputs": [
    {
     "data": {
      "text/plain": [
       "['age',\n",
       " 'ed',\n",
       " 'employ',\n",
       " 'address',\n",
       " 'income',\n",
       " 'debtinc',\n",
       " 'creddebt',\n",
       " 'othdebt',\n",
       " 'result']"
      ]
     },
     "execution_count": 8,
     "metadata": {},
     "output_type": "execute_result"
    }
   ],
   "source": [
    "columns=list (bank.columns)\n",
    "columns"
   ]
  },
  {
   "cell_type": "code",
   "execution_count": 9,
   "metadata": {
    "colab": {
     "base_uri": "https://localhost:8080/",
     "height": 206
    },
    "id": "Raj1vG7yK7bI",
    "outputId": "78fcf530-bcc5-44b5-b8bb-23b19cceef7b",
    "scrolled": true
   },
   "outputs": [
    {
     "data": {
      "text/html": [
       "<div>\n",
       "<style scoped>\n",
       "    .dataframe tbody tr th:only-of-type {\n",
       "        vertical-align: middle;\n",
       "    }\n",
       "\n",
       "    .dataframe tbody tr th {\n",
       "        vertical-align: top;\n",
       "    }\n",
       "\n",
       "    .dataframe thead th {\n",
       "        text-align: right;\n",
       "    }\n",
       "</style>\n",
       "<table border=\"1\" class=\"dataframe\">\n",
       "  <thead>\n",
       "    <tr style=\"text-align: right;\">\n",
       "      <th></th>\n",
       "      <th>age</th>\n",
       "      <th>ed</th>\n",
       "      <th>employ</th>\n",
       "      <th>address</th>\n",
       "      <th>income</th>\n",
       "      <th>debtinc</th>\n",
       "      <th>creddebt</th>\n",
       "      <th>othdebt</th>\n",
       "      <th>result</th>\n",
       "    </tr>\n",
       "  </thead>\n",
       "  <tbody>\n",
       "    <tr>\n",
       "      <th>845</th>\n",
       "      <td>34</td>\n",
       "      <td>1</td>\n",
       "      <td>12</td>\n",
       "      <td>15</td>\n",
       "      <td>32</td>\n",
       "      <td>2.7</td>\n",
       "      <td>0.239328</td>\n",
       "      <td>0.624672</td>\n",
       "      <td>NaN</td>\n",
       "    </tr>\n",
       "    <tr>\n",
       "      <th>846</th>\n",
       "      <td>32</td>\n",
       "      <td>2</td>\n",
       "      <td>12</td>\n",
       "      <td>11</td>\n",
       "      <td>116</td>\n",
       "      <td>5.7</td>\n",
       "      <td>4.026708</td>\n",
       "      <td>2.585292</td>\n",
       "      <td>NaN</td>\n",
       "    </tr>\n",
       "    <tr>\n",
       "      <th>847</th>\n",
       "      <td>48</td>\n",
       "      <td>1</td>\n",
       "      <td>13</td>\n",
       "      <td>11</td>\n",
       "      <td>38</td>\n",
       "      <td>10.8</td>\n",
       "      <td>0.722304</td>\n",
       "      <td>3.381696</td>\n",
       "      <td>NaN</td>\n",
       "    </tr>\n",
       "    <tr>\n",
       "      <th>848</th>\n",
       "      <td>35</td>\n",
       "      <td>2</td>\n",
       "      <td>1</td>\n",
       "      <td>11</td>\n",
       "      <td>24</td>\n",
       "      <td>7.8</td>\n",
       "      <td>0.417456</td>\n",
       "      <td>1.454544</td>\n",
       "      <td>NaN</td>\n",
       "    </tr>\n",
       "    <tr>\n",
       "      <th>849</th>\n",
       "      <td>37</td>\n",
       "      <td>1</td>\n",
       "      <td>20</td>\n",
       "      <td>13</td>\n",
       "      <td>41</td>\n",
       "      <td>12.9</td>\n",
       "      <td>0.899130</td>\n",
       "      <td>4.389870</td>\n",
       "      <td>NaN</td>\n",
       "    </tr>\n",
       "  </tbody>\n",
       "</table>\n",
       "</div>"
      ],
      "text/plain": [
       "     age  ed  employ  address  income  debtinc  creddebt   othdebt  result\n",
       "845   34   1      12       15      32      2.7  0.239328  0.624672     NaN\n",
       "846   32   2      12       11     116      5.7  4.026708  2.585292     NaN\n",
       "847   48   1      13       11      38     10.8  0.722304  3.381696     NaN\n",
       "848   35   2       1       11      24      7.8  0.417456  1.454544     NaN\n",
       "849   37   1      20       13      41     12.9  0.899130  4.389870     NaN"
      ]
     },
     "execution_count": 9,
     "metadata": {},
     "output_type": "execute_result"
    }
   ],
   "source": [
    "bank.tail(5)"
   ]
  },
  {
   "cell_type": "code",
   "execution_count": 10,
   "metadata": {
    "colab": {
     "base_uri": "https://localhost:8080/"
    },
    "id": "5VkpqzDOK7bI",
    "outputId": "40f9d4fe-6491-4068-95bb-ee77b9c9ff7d"
   },
   "outputs": [
    {
     "name": "stdout",
     "output_type": "stream",
     "text": [
      "<class 'pandas.core.frame.DataFrame'>\n",
      "RangeIndex: 850 entries, 0 to 849\n",
      "Data columns (total 9 columns):\n",
      " #   Column    Non-Null Count  Dtype  \n",
      "---  ------    --------------  -----  \n",
      " 0   age       850 non-null    int64  \n",
      " 1   ed        850 non-null    int64  \n",
      " 2   employ    850 non-null    int64  \n",
      " 3   address   850 non-null    int64  \n",
      " 4   income    850 non-null    int64  \n",
      " 5   debtinc   850 non-null    float64\n",
      " 6   creddebt  850 non-null    float64\n",
      " 7   othdebt   850 non-null    float64\n",
      " 8   result    700 non-null    float64\n",
      "dtypes: float64(4), int64(5)\n",
      "memory usage: 59.9 KB\n"
     ]
    }
   ],
   "source": [
    "bank.info()"
   ]
  },
  {
   "cell_type": "code",
   "execution_count": 11,
   "metadata": {
    "colab": {
     "base_uri": "https://localhost:8080/"
    },
    "id": "oLkmqfvPK7bI",
    "outputId": "d2f0b19e-3ea7-4296-e4ef-383c8ab9f607"
   },
   "outputs": [
    {
     "data": {
      "text/plain": [
       "(850, 9)"
      ]
     },
     "execution_count": 11,
     "metadata": {},
     "output_type": "execute_result"
    }
   ],
   "source": [
    "bank.shape"
   ]
  },
  {
   "cell_type": "code",
   "execution_count": 12,
   "metadata": {
    "colab": {
     "base_uri": "https://localhost:8080/",
     "height": 300
    },
    "id": "S_y39U0MK7bJ",
    "outputId": "3e0c1559-f52d-4855-e705-d46f510c0610",
    "scrolled": false
   },
   "outputs": [
    {
     "data": {
      "text/html": [
       "<div>\n",
       "<style scoped>\n",
       "    .dataframe tbody tr th:only-of-type {\n",
       "        vertical-align: middle;\n",
       "    }\n",
       "\n",
       "    .dataframe tbody tr th {\n",
       "        vertical-align: top;\n",
       "    }\n",
       "\n",
       "    .dataframe thead th {\n",
       "        text-align: right;\n",
       "    }\n",
       "</style>\n",
       "<table border=\"1\" class=\"dataframe\">\n",
       "  <thead>\n",
       "    <tr style=\"text-align: right;\">\n",
       "      <th></th>\n",
       "      <th>age</th>\n",
       "      <th>ed</th>\n",
       "      <th>employ</th>\n",
       "      <th>address</th>\n",
       "      <th>income</th>\n",
       "      <th>debtinc</th>\n",
       "      <th>creddebt</th>\n",
       "      <th>othdebt</th>\n",
       "      <th>result</th>\n",
       "    </tr>\n",
       "  </thead>\n",
       "  <tbody>\n",
       "    <tr>\n",
       "      <th>count</th>\n",
       "      <td>850.000000</td>\n",
       "      <td>850.000000</td>\n",
       "      <td>850.000000</td>\n",
       "      <td>850.000000</td>\n",
       "      <td>850.000000</td>\n",
       "      <td>850.000000</td>\n",
       "      <td>850.000000</td>\n",
       "      <td>850.000000</td>\n",
       "      <td>700.000000</td>\n",
       "    </tr>\n",
       "    <tr>\n",
       "      <th>mean</th>\n",
       "      <td>35.029412</td>\n",
       "      <td>1.710588</td>\n",
       "      <td>8.565882</td>\n",
       "      <td>8.371765</td>\n",
       "      <td>46.675294</td>\n",
       "      <td>10.171647</td>\n",
       "      <td>1.576805</td>\n",
       "      <td>3.078789</td>\n",
       "      <td>0.261429</td>\n",
       "    </tr>\n",
       "    <tr>\n",
       "      <th>std</th>\n",
       "      <td>8.041432</td>\n",
       "      <td>0.927784</td>\n",
       "      <td>6.777884</td>\n",
       "      <td>6.895016</td>\n",
       "      <td>38.543054</td>\n",
       "      <td>6.719441</td>\n",
       "      <td>2.125840</td>\n",
       "      <td>3.398803</td>\n",
       "      <td>0.439727</td>\n",
       "    </tr>\n",
       "    <tr>\n",
       "      <th>min</th>\n",
       "      <td>20.000000</td>\n",
       "      <td>1.000000</td>\n",
       "      <td>0.000000</td>\n",
       "      <td>0.000000</td>\n",
       "      <td>13.000000</td>\n",
       "      <td>0.100000</td>\n",
       "      <td>0.011696</td>\n",
       "      <td>0.045584</td>\n",
       "      <td>0.000000</td>\n",
       "    </tr>\n",
       "    <tr>\n",
       "      <th>25%</th>\n",
       "      <td>29.000000</td>\n",
       "      <td>1.000000</td>\n",
       "      <td>3.000000</td>\n",
       "      <td>3.000000</td>\n",
       "      <td>24.000000</td>\n",
       "      <td>5.100000</td>\n",
       "      <td>0.382176</td>\n",
       "      <td>1.045942</td>\n",
       "      <td>0.000000</td>\n",
       "    </tr>\n",
       "    <tr>\n",
       "      <th>50%</th>\n",
       "      <td>34.000000</td>\n",
       "      <td>1.000000</td>\n",
       "      <td>7.000000</td>\n",
       "      <td>7.000000</td>\n",
       "      <td>35.000000</td>\n",
       "      <td>8.700000</td>\n",
       "      <td>0.885091</td>\n",
       "      <td>2.003243</td>\n",
       "      <td>0.000000</td>\n",
       "    </tr>\n",
       "    <tr>\n",
       "      <th>75%</th>\n",
       "      <td>41.000000</td>\n",
       "      <td>2.000000</td>\n",
       "      <td>13.000000</td>\n",
       "      <td>12.000000</td>\n",
       "      <td>55.750000</td>\n",
       "      <td>13.800000</td>\n",
       "      <td>1.898440</td>\n",
       "      <td>3.903001</td>\n",
       "      <td>1.000000</td>\n",
       "    </tr>\n",
       "    <tr>\n",
       "      <th>max</th>\n",
       "      <td>56.000000</td>\n",
       "      <td>5.000000</td>\n",
       "      <td>33.000000</td>\n",
       "      <td>34.000000</td>\n",
       "      <td>446.000000</td>\n",
       "      <td>41.300000</td>\n",
       "      <td>20.561310</td>\n",
       "      <td>35.197500</td>\n",
       "      <td>1.000000</td>\n",
       "    </tr>\n",
       "  </tbody>\n",
       "</table>\n",
       "</div>"
      ],
      "text/plain": [
       "              age          ed      employ     address      income     debtinc  \\\n",
       "count  850.000000  850.000000  850.000000  850.000000  850.000000  850.000000   \n",
       "mean    35.029412    1.710588    8.565882    8.371765   46.675294   10.171647   \n",
       "std      8.041432    0.927784    6.777884    6.895016   38.543054    6.719441   \n",
       "min     20.000000    1.000000    0.000000    0.000000   13.000000    0.100000   \n",
       "25%     29.000000    1.000000    3.000000    3.000000   24.000000    5.100000   \n",
       "50%     34.000000    1.000000    7.000000    7.000000   35.000000    8.700000   \n",
       "75%     41.000000    2.000000   13.000000   12.000000   55.750000   13.800000   \n",
       "max     56.000000    5.000000   33.000000   34.000000  446.000000   41.300000   \n",
       "\n",
       "         creddebt     othdebt      result  \n",
       "count  850.000000  850.000000  700.000000  \n",
       "mean     1.576805    3.078789    0.261429  \n",
       "std      2.125840    3.398803    0.439727  \n",
       "min      0.011696    0.045584    0.000000  \n",
       "25%      0.382176    1.045942    0.000000  \n",
       "50%      0.885091    2.003243    0.000000  \n",
       "75%      1.898440    3.903001    1.000000  \n",
       "max     20.561310   35.197500    1.000000  "
      ]
     },
     "execution_count": 12,
     "metadata": {},
     "output_type": "execute_result"
    }
   ],
   "source": [
    "bank.describe()"
   ]
  },
  {
   "cell_type": "code",
   "execution_count": 13,
   "metadata": {
    "colab": {
     "base_uri": "https://localhost:8080/",
     "height": 576
    },
    "id": "FfAh2ElDK7bJ",
    "outputId": "2f7242e9-738d-469f-ab39-e15e14d7f9e1",
    "scrolled": true
   },
   "outputs": [
    {
     "name": "stderr",
     "output_type": "stream",
     "text": [
      "C:\\Users\\saigo\\anaconda3\\lib\\site-packages\\seaborn\\_decorators.py:43: FutureWarning: Pass the following variable as a keyword arg: x. From version 0.12, the only valid positional argument will be `data`, and passing other arguments without an explicit keyword will result in an error or misinterpretation.\n",
      "  FutureWarning\n"
     ]
    },
    {
     "data": {
      "text/plain": [
       "<AxesSubplot:xlabel='age', ylabel='count'>"
      ]
     },
     "execution_count": 13,
     "metadata": {},
     "output_type": "execute_result"
    },
    {
     "data": {
      "image/png": "[encoded data removed]",
      "text/plain": [
       "<Figure size 1080x576 with 1 Axes>"
      ]
     },
     "metadata": {},
     "output_type": "display_data"
    }
   ],
   "source": [
    "############ univariate analysis and bivariate analysis ##########################\n",
    "\n",
    "#Analysis for single variable in the dataset is Univariate Analysis and plotting relation between 2 variables is bivariate analysis.\n",
    "sns.set(rc = {'figure.figsize':(15,8)})\n",
    "sns.countplot(bank[\"age\"])\n",
    "# age_20 = bank[bank[\"age\"] == 20]\n",
    "# print()"
   ]
  },
  {
   "cell_type": "code",
   "execution_count": 14,
   "metadata": {
    "colab": {
     "base_uri": "https://localhost:8080/"
    },
    "id": "ELmLzfvkK7bK",
    "outputId": "4946b370-b4e5-4abb-a7d4-6e7c1b807ac4"
   },
   "outputs": [
    {
     "data": {
      "text/plain": [
       "array([ 1.,  0., nan])"
      ]
     },
     "execution_count": 14,
     "metadata": {},
     "output_type": "execute_result"
    }
   ],
   "source": [
    "\n",
    "# it means there are missing values in var\n",
    "\n",
    "bank['result'].unique()"
   ]
  },
  {
   "cell_type": "code",
   "execution_count": 15,
   "metadata": {
    "colab": {
     "base_uri": "https://localhost:8080/"
    },
    "id": "M3cDJ_9hK7bK",
    "outputId": "564d41bb-6508-4845-df02-2d379d3126b8"
   },
   "outputs": [
    {
     "data": {
      "text/plain": [
       "0.0    517\n",
       "1.0    183\n",
       "Name: result, dtype: int64"
      ]
     },
     "execution_count": 15,
     "metadata": {},
     "output_type": "execute_result"
    }
   ],
   "source": [
    "bank['result'].value_counts()"
   ]
  },
  {
   "cell_type": "code",
   "execution_count": 16,
   "metadata": {
    "colab": {
     "base_uri": "https://localhost:8080/"
    },
    "id": "W5_VVMPrK7bL",
    "outputId": "55b7cfa2-f86e-4fbb-fc0d-2d09433c631c"
   },
   "outputs": [
    {
     "data": {
      "text/plain": [
       "150"
      ]
     },
     "execution_count": 16,
     "metadata": {},
     "output_type": "execute_result"
    }
   ],
   "source": [
    "(850-517-183) # nan values"
   ]
  },
  {
   "cell_type": "code",
   "execution_count": 17,
   "metadata": {
    "colab": {
     "base_uri": "https://localhost:8080/"
    },
    "id": "1EDDSEJ5Zwfv",
    "outputId": "bc2f3562-35fa-4aaf-b276-d6b6984b22ee"
   },
   "outputs": [
    {
     "data": {
      "text/plain": [
       "['age',\n",
       " 'ed',\n",
       " 'employ',\n",
       " 'address',\n",
       " 'income',\n",
       " 'debtinc',\n",
       " 'creddebt',\n",
       " 'othdebt',\n",
       " 'result']"
      ]
     },
     "execution_count": 17,
     "metadata": {},
     "output_type": "execute_result"
    }
   ],
   "source": [
    "columns"
   ]
  },
  {
   "cell_type": "code",
   "execution_count": 18,
   "metadata": {
    "id": "HslG4w1iZwbW"
   },
   "outputs": [],
   "source": [
    "# replacing nan values with 0 in each and every column\n",
    "for i in columns:\n",
    "  bank[i] = bank[i].fillna(0)\n"
   ]
  },
  {
   "cell_type": "code",
   "execution_count": 19,
   "metadata": {
    "colab": {
     "base_uri": "https://localhost:8080/",
     "height": 36
    },
    "id": "AB_D_UoUZwme",
    "outputId": "89b0e70c-e565-4210-c92e-24fb46b7fffd"
   },
   "outputs": [
    {
     "data": {
      "text/plain": [
       "'age'"
      ]
     },
     "execution_count": 19,
     "metadata": {},
     "output_type": "execute_result"
    }
   ],
   "source": [
    "columns[0]"
   ]
  },
  {
   "cell_type": "code",
   "execution_count": 20,
   "metadata": {
    "colab": {
     "base_uri": "https://localhost:8080/",
     "height": 524
    },
    "id": "Cq7rSnvIK7bM",
    "outputId": "bf4d7bfa-9e1b-4436-a644-3ef57de961bf",
    "scrolled": true
   },
   "outputs": [
    {
     "data": {
      "text/plain": [
       "<AxesSubplot:xlabel='result', ylabel='count'>"
      ]
     },
     "execution_count": 20,
     "metadata": {},
     "output_type": "execute_result"
    },
    {
     "data": {
      "image/png": "[encoded data removed]",
      "text/plain": [
       "<Figure size 1080x576 with 1 Axes>"
      ]
     },
     "metadata": {},
     "output_type": "display_data"
    }
   ],
   "source": [
    "sns.countplot( x = \"result\" , data = bank,)"
   ]
  },
  {
   "cell_type": "code",
   "execution_count": 21,
   "metadata": {
    "colab": {
     "base_uri": "https://localhost:8080/",
     "height": 524
    },
    "id": "pjVxnUNLK7bM",
    "outputId": "07533c27-a137-41fd-b8d7-2be10f9d4a6a",
    "scrolled": false
   },
   "outputs": [
    {
     "data": {
      "text/plain": [
       "<AxesSubplot:xlabel='ed', ylabel='count'>"
      ]
     },
     "execution_count": 21,
     "metadata": {},
     "output_type": "execute_result"
    },
    {
     "data": {
      "image/png": "[encoded data removed]",
      "text/plain": [
       "<Figure size 1080x576 with 1 Axes>"
      ]
     },
     "metadata": {},
     "output_type": "display_data"
    }
   ],
   "source": [
    "sns.countplot( x = \"ed\" , data = bank, hue = \"result\")"
   ]
  },
  {
   "cell_type": "markdown",
   "metadata": {
    "id": "c923p86UK7bS"
   },
   "source": [
    "\n",
    "## Outliers Analysis and Synthesis\n"
   ]
  },
  {
   "cell_type": "code",
   "execution_count": 22,
   "metadata": {
    "colab": {
     "base_uri": "https://localhost:8080/",
     "height": 409
    },
    "id": "PrAUXhu8K7bS",
    "outputId": "11f84f62-6dc3-4d4b-9499-a9b00af4bf58",
    "scrolled": true
   },
   "outputs": [
    {
     "name": "stdout",
     "output_type": "stream",
     "text": [
      "   age  ed  employ  address  income  debtinc   creddebt   othdebt  result\n",
      "0   41   3      17       12     176      9.3  11.359392  5.008608     1.0\n",
      "1   27   1      10        6      31     17.3   1.362202  4.000798     0.0\n",
      "2   40   1      15       14      55      5.5   0.856075  2.168925     0.0\n",
      "3   41   1      15       14     120      2.9   2.658720  0.821280     0.0\n",
      "4   24   2       2        0      28     17.3   1.787436  3.056564     1.0\n"
     ]
    },
    {
     "data": {
      "text/html": [
       "<div>\n",
       "<style scoped>\n",
       "    .dataframe tbody tr th:only-of-type {\n",
       "        vertical-align: middle;\n",
       "    }\n",
       "\n",
       "    .dataframe tbody tr th {\n",
       "        vertical-align: top;\n",
       "    }\n",
       "\n",
       "    .dataframe thead th {\n",
       "        text-align: right;\n",
       "    }\n",
       "</style>\n",
       "<table border=\"1\" class=\"dataframe\">\n",
       "  <thead>\n",
       "    <tr style=\"text-align: right;\">\n",
       "      <th></th>\n",
       "      <th>age</th>\n",
       "      <th>ed</th>\n",
       "      <th>employ</th>\n",
       "      <th>address</th>\n",
       "      <th>income</th>\n",
       "      <th>debtinc</th>\n",
       "      <th>creddebt</th>\n",
       "      <th>othdebt</th>\n",
       "      <th>result</th>\n",
       "    </tr>\n",
       "  </thead>\n",
       "  <tbody>\n",
       "    <tr>\n",
       "      <th>count</th>\n",
       "      <td>850.000000</td>\n",
       "      <td>850.000000</td>\n",
       "      <td>850.000000</td>\n",
       "      <td>850.000000</td>\n",
       "      <td>850.000000</td>\n",
       "      <td>850.000000</td>\n",
       "      <td>850.000000</td>\n",
       "      <td>850.000000</td>\n",
       "      <td>850.000000</td>\n",
       "    </tr>\n",
       "    <tr>\n",
       "      <th>mean</th>\n",
       "      <td>35.029412</td>\n",
       "      <td>1.710588</td>\n",
       "      <td>8.565882</td>\n",
       "      <td>8.371765</td>\n",
       "      <td>46.675294</td>\n",
       "      <td>10.171647</td>\n",
       "      <td>1.576805</td>\n",
       "      <td>3.078789</td>\n",
       "      <td>0.215294</td>\n",
       "    </tr>\n",
       "    <tr>\n",
       "      <th>std</th>\n",
       "      <td>8.041432</td>\n",
       "      <td>0.927784</td>\n",
       "      <td>6.777884</td>\n",
       "      <td>6.895016</td>\n",
       "      <td>38.543054</td>\n",
       "      <td>6.719441</td>\n",
       "      <td>2.125840</td>\n",
       "      <td>3.398803</td>\n",
       "      <td>0.411268</td>\n",
       "    </tr>\n",
       "    <tr>\n",
       "      <th>min</th>\n",
       "      <td>20.000000</td>\n",
       "      <td>1.000000</td>\n",
       "      <td>0.000000</td>\n",
       "      <td>0.000000</td>\n",
       "      <td>13.000000</td>\n",
       "      <td>0.100000</td>\n",
       "      <td>0.011696</td>\n",
       "      <td>0.045584</td>\n",
       "      <td>0.000000</td>\n",
       "    </tr>\n",
       "    <tr>\n",
       "      <th>25%</th>\n",
       "      <td>29.000000</td>\n",
       "      <td>1.000000</td>\n",
       "      <td>3.000000</td>\n",
       "      <td>3.000000</td>\n",
       "      <td>24.000000</td>\n",
       "      <td>5.100000</td>\n",
       "      <td>0.382176</td>\n",
       "      <td>1.045942</td>\n",
       "      <td>0.000000</td>\n",
       "    </tr>\n",
       "    <tr>\n",
       "      <th>50%</th>\n",
       "      <td>34.000000</td>\n",
       "      <td>1.000000</td>\n",
       "      <td>7.000000</td>\n",
       "      <td>7.000000</td>\n",
       "      <td>35.000000</td>\n",
       "      <td>8.700000</td>\n",
       "      <td>0.885091</td>\n",
       "      <td>2.003243</td>\n",
       "      <td>0.000000</td>\n",
       "    </tr>\n",
       "    <tr>\n",
       "      <th>75%</th>\n",
       "      <td>41.000000</td>\n",
       "      <td>2.000000</td>\n",
       "      <td>13.000000</td>\n",
       "      <td>12.000000</td>\n",
       "      <td>55.750000</td>\n",
       "      <td>13.800000</td>\n",
       "      <td>1.898440</td>\n",
       "      <td>3.903001</td>\n",
       "      <td>0.000000</td>\n",
       "    </tr>\n",
       "    <tr>\n",
       "      <th>max</th>\n",
       "      <td>56.000000</td>\n",
       "      <td>5.000000</td>\n",
       "      <td>33.000000</td>\n",
       "      <td>34.000000</td>\n",
       "      <td>446.000000</td>\n",
       "      <td>41.300000</td>\n",
       "      <td>20.561310</td>\n",
       "      <td>35.197500</td>\n",
       "      <td>1.000000</td>\n",
       "    </tr>\n",
       "  </tbody>\n",
       "</table>\n",
       "</div>"
      ],
      "text/plain": [
       "              age          ed      employ     address      income     debtinc  \\\n",
       "count  850.000000  850.000000  850.000000  850.000000  850.000000  850.000000   \n",
       "mean    35.029412    1.710588    8.565882    8.371765   46.675294   10.171647   \n",
       "std      8.041432    0.927784    6.777884    6.895016   38.543054    6.719441   \n",
       "min     20.000000    1.000000    0.000000    0.000000   13.000000    0.100000   \n",
       "25%     29.000000    1.000000    3.000000    3.000000   24.000000    5.100000   \n",
       "50%     34.000000    1.000000    7.000000    7.000000   35.000000    8.700000   \n",
       "75%     41.000000    2.000000   13.000000   12.000000   55.750000   13.800000   \n",
       "max     56.000000    5.000000   33.000000   34.000000  446.000000   41.300000   \n",
       "\n",
       "         creddebt     othdebt      result  \n",
       "count  850.000000  850.000000  850.000000  \n",
       "mean     1.576805    3.078789    0.215294  \n",
       "std      2.125840    3.398803    0.411268  \n",
       "min      0.011696    0.045584    0.000000  \n",
       "25%      0.382176    1.045942    0.000000  \n",
       "50%      0.885091    2.003243    0.000000  \n",
       "75%      1.898440    3.903001    0.000000  \n",
       "max     20.561310   35.197500    1.000000  "
      ]
     },
     "execution_count": 22,
     "metadata": {},
     "output_type": "execute_result"
    }
   ],
   "source": [
    "print(bank.head())\n",
    "bank.describe()"
   ]
  },
  {
   "cell_type": "code",
   "execution_count": 23,
   "metadata": {
    "colab": {
     "base_uri": "https://localhost:8080/",
     "height": 1000
    },
    "id": "uJ2TV0grK7bS",
    "outputId": "034e5398-93cc-4d87-a500-5bd7f4261e5c",
    "scrolled": true
   },
   "outputs": [
    {
     "data": {
      "image/png": "[encoded data removed]",
      "text/plain": [
       "<Figure size 1080x576 with 1 Axes>"
      ]
     },
     "metadata": {},
     "output_type": "display_data"
    },
    {
     "data": {
      "image/png": "[encoded data removed]",
      "text/plain": [
       "<Figure size 1080x576 with 1 Axes>"
      ]
     },
     "metadata": {},
     "output_type": "display_data"
    },
    {
     "data": {
      "image/png": "[encoded data removed]",
      "text/plain": [
       "<Figure size 1080x576 with 1 Axes>"
      ]
     },
     "metadata": {},
     "output_type": "display_data"
    },
    {
     "data": {
      "image/png": "[encoded data removed]",
      "text/plain": [
       "<Figure size 1080x576 with 1 Axes>"
      ]
     },
     "metadata": {},
     "output_type": "display_data"
    },
    {
     "data": {
      "image/png": "[encoded data removed]",
      "text/plain": [
       "<Figure size 1080x576 with 1 Axes>"
      ]
     },
     "metadata": {},
     "output_type": "display_data"
    },
    {
     "data": {
      "image/png": "[encoded data removed]",
      "text/plain": [
       "<Figure size 1080x576 with 1 Axes>"
      ]
     },
     "metadata": {},
     "output_type": "display_data"
    },
    {
     "data": {
      "image/png": "[encoded data removed]",
      "text/plain": [
       "<Figure size 1080x576 with 1 Axes>"
      ]
     },
     "metadata": {},
     "output_type": "display_data"
    },
    {
     "data": {
      "image/png": "[encoded data removed]",
      "text/plain": [
       "<Figure size 1080x576 with 1 Axes>"
      ]
     },
     "metadata": {},
     "output_type": "display_data"
    }
   ],
   "source": [
    "#scatter plot for outlier Analysis\n",
    "for i in columns:\n",
    "  if i!='result':\n",
    "    plt.scatter(bank['result'],bank[i])\n",
    "    plt.title('Outlier Analysis')\n",
    "    plt.xlabel('Count')\n",
    "    plt.ylabel(i)\n",
    "    plt.show()"
   ]
  },
  {
   "cell_type": "code",
   "execution_count": 24,
   "metadata": {
    "colab": {
     "base_uri": "https://localhost:8080/"
    },
    "id": "TORf61qT-sLt",
    "outputId": "a29dfa33-c12a-4ac5-a17d-e9635be5bd60"
   },
   "outputs": [
    {
     "name": "stdout",
     "output_type": "stream",
     "text": [
      "<class 'pandas.core.frame.DataFrame'>\n",
      "RangeIndex: 850 entries, 0 to 849\n",
      "Data columns (total 9 columns):\n",
      " #   Column    Non-Null Count  Dtype  \n",
      "---  ------    --------------  -----  \n",
      " 0   age       850 non-null    int64  \n",
      " 1   ed        850 non-null    int64  \n",
      " 2   employ    850 non-null    int64  \n",
      " 3   address   850 non-null    int64  \n",
      " 4   income    850 non-null    int64  \n",
      " 5   debtinc   850 non-null    float64\n",
      " 6   creddebt  850 non-null    float64\n",
      " 7   othdebt   850 non-null    float64\n",
      " 8   result    850 non-null    float64\n",
      "dtypes: float64(4), int64(5)\n",
      "memory usage: 59.9 KB\n"
     ]
    }
   ],
   "source": [
    "bank.info()"
   ]
  },
  {
   "cell_type": "markdown",
   "metadata": {
    "id": "tCwbOGowCEu_"
   },
   "source": [
    "# Now detect and replace Outliers"
   ]
  },
  {
   "cell_type": "code",
   "execution_count": 25,
   "metadata": {
    "colab": {
     "base_uri": "https://localhost:8080/",
     "height": 413
    },
    "id": "oE6oX5ZICD-w",
    "outputId": "64df5987-3a63-4d1d-9602-c00cccaabe5d"
   },
   "outputs": [
    {
     "data": {
      "text/plain": [
       "{'whiskers': [<matplotlib.lines.Line2D at 0x1bdfca0c588>,\n",
       "  <matplotlib.lines.Line2D at 0x1bdfc9ee708>],\n",
       " 'caps': [<matplotlib.lines.Line2D at 0x1bdfca20fc8>,\n",
       "  <matplotlib.lines.Line2D at 0x1bdfca20f48>],\n",
       " 'boxes': [<matplotlib.lines.Line2D at 0x1bdfc9eeac8>],\n",
       " 'medians': [<matplotlib.lines.Line2D at 0x1bdfc9ae8c8>],\n",
       " 'fliers': [<matplotlib.lines.Line2D at 0x1bdfc9ae688>],\n",
       " 'means': []}"
      ]
     },
     "execution_count": 25,
     "metadata": {},
     "output_type": "execute_result"
    },
    {
     "data": {
      "image/png": "[encoded data removed]",
      "text/plain": [
       "<Figure size 432x288 with 1 Axes>"
      ]
     },
     "metadata": {
      "needs_background": "light"
     },
     "output_type": "display_data"
    }
   ],
   "source": [
    "    \n",
    "%matplotlib inline\n",
    "\n",
    "plt.boxplot(bank['income'])  "
   ]
  },
  {
   "cell_type": "code",
   "execution_count": 26,
   "metadata": {
    "colab": {
     "base_uri": "https://localhost:8080/"
    },
    "id": "5NfGi0PuCSQh",
    "outputId": "4145deb0-a989-4619-89cc-fa500ea5be9f"
   },
   "outputs": [
    {
     "data": {
      "text/plain": [
       "53"
      ]
     },
     "execution_count": 26,
     "metadata": {},
     "output_type": "execute_result"
    }
   ],
   "source": [
    "# 2.Detect outliers and replace  NAn later impute by KNN imputation\n",
    "\n",
    "#Extract quartiles\n",
    "q75, q25 = np.percentile(bank['income'], [75 ,25])\n",
    "\n",
    "#Calculate IQR\n",
    "iqr = q75 - q25\n",
    "\n",
    "#Calculate inner and outer fence\n",
    "minimum = q25 - (iqr*1.5)\n",
    "maximum = q75 + (iqr*1.5)\n",
    "\n",
    "#Replace with NA\n",
    "bank.loc[bank['income']  < minimum,:'income'] = np.nan\n",
    "\n",
    "bank.loc[bank['income'] > maximum,:'income'] = np.nan\n",
    "\n",
    "#Calculate missing value\n",
    "bank.income.isnull().sum()\n",
    "\n",
    "# missing_val = pd.DataFrame(bank.isnull().sum())"
   ]
  },
  {
   "cell_type": "code",
   "execution_count": 27,
   "metadata": {
    "colab": {
     "base_uri": "https://localhost:8080/"
    },
    "id": "jNwVmABk6YcF",
    "outputId": "c30f20d7-9ef3-465e-d51d-9757ce5d747e"
   },
   "outputs": [
    {
     "name": "stdout",
     "output_type": "stream",
     "text": [
      "Imputing row 1/850 with 5 missing, elapsed time: 0.293\n",
      "Imputing row 101/850 with 5 missing, elapsed time: 0.293\n",
      "Imputing row 201/850 with 0 missing, elapsed time: 0.299\n",
      "Imputing row 301/850 with 5 missing, elapsed time: 0.301\n",
      "Imputing row 401/850 with 0 missing, elapsed time: 0.301\n",
      "Imputing row 501/850 with 0 missing, elapsed time: 0.301\n",
      "Imputing row 601/850 with 0 missing, elapsed time: 0.310\n",
      "Imputing row 701/850 with 0 missing, elapsed time: 0.314\n",
      "Imputing row 801/850 with 0 missing, elapsed time: 0.314\n"
     ]
    }
   ],
   "source": [
    "#replacing NaNs with Knn imputation\n",
    "bank = pd.DataFrame(KNN(k = 3).fit_transform(bank), columns = bank.columns)\n"
   ]
  },
  {
   "cell_type": "code",
   "execution_count": 28,
   "metadata": {
    "colab": {
     "base_uri": "https://localhost:8080/"
    },
    "id": "ZwcMhSO2_z2B",
    "outputId": "dfbb5b4e-5eb8-487e-ea7e-0d5b4667b420"
   },
   "outputs": [
    {
     "data": {
      "text/plain": [
       "0"
      ]
     },
     "execution_count": 28,
     "metadata": {},
     "output_type": "execute_result"
    }
   ],
   "source": [
    "bank.result.isnull().sum()"
   ]
  },
  {
   "cell_type": "code",
   "execution_count": 29,
   "metadata": {
    "colab": {
     "base_uri": "https://localhost:8080/",
     "height": 413
    },
    "id": "zPWj8B9GCrbm",
    "outputId": "b212b84b-0724-42a3-8a63-f14c74c86c7f"
   },
   "outputs": [
    {
     "data": {
      "text/plain": [
       "{'whiskers': [<matplotlib.lines.Line2D at 0x1bdfc03b0c8>,\n",
       "  <matplotlib.lines.Line2D at 0x1bdfbf73748>],\n",
       " 'caps': [<matplotlib.lines.Line2D at 0x1bdfbf70808>,\n",
       "  <matplotlib.lines.Line2D at 0x1bdfbf70d48>],\n",
       " 'boxes': [<matplotlib.lines.Line2D at 0x1bdfbf73348>],\n",
       " 'medians': [<matplotlib.lines.Line2D at 0x1bdfbf70ec8>],\n",
       " 'fliers': [<matplotlib.lines.Line2D at 0x1bdfbf70bc8>],\n",
       " 'means': []}"
      ]
     },
     "execution_count": 29,
     "metadata": {},
     "output_type": "execute_result"
    },
    {
     "data": {
      "image/png": "[encoded data removed]",
      "text/plain": [
       "<Figure size 432x288 with 1 Axes>"
      ]
     },
     "metadata": {
      "needs_background": "light"
     },
     "output_type": "display_data"
    }
   ],
   "source": [
    "    ## Now check outliers got imputed or not \n",
    "%matplotlib inline\n",
    "\n",
    "plt.boxplot(bank['income']) "
   ]
  },
  {
   "cell_type": "markdown",
   "metadata": {
    "id": "kmQzTyibCySn"
   },
   "source": [
    "As of now we got data having zero missing values and Outliers"
   ]
  },
  {
   "cell_type": "markdown",
   "metadata": {
    "id": "qChJceg9K7bZ"
   },
   "source": [
    "# Next step = Feature Selection"
   ]
  },
  {
   "cell_type": "markdown",
   "metadata": {
    "id": "RcP97sTNK7bZ"
   },
   "source": [
    "#### Selection of categorical vars -- Chi_Sqr Test of Independance\n",
    "\n",
    "#### Selection of Numerical vars i.e. ( cnames ) --  Correlation analysis \n"
   ]
  },
  {
   "cell_type": "code",
   "execution_count": 30,
   "metadata": {
    "id": "SlBwJhS_K7bZ",
    "scrolled": true
   },
   "outputs": [],
   "source": [
    "cnames=['age',\t'employ'\t,'address',\t'income'\t,'debtinc'\t,'creddebt',\t'othdebt']"
   ]
  },
  {
   "cell_type": "code",
   "execution_count": 31,
   "metadata": {
    "colab": {
     "base_uri": "https://localhost:8080/",
     "height": 424
    },
    "id": "Glr0QG7zK7ba",
    "outputId": "14cd620a-d7f1-420c-a158-d9861b0486d8"
   },
   "outputs": [
    {
     "data": {
      "text/html": [
       "<div>\n",
       "<style scoped>\n",
       "    .dataframe tbody tr th:only-of-type {\n",
       "        vertical-align: middle;\n",
       "    }\n",
       "\n",
       "    .dataframe tbody tr th {\n",
       "        vertical-align: top;\n",
       "    }\n",
       "\n",
       "    .dataframe thead th {\n",
       "        text-align: right;\n",
       "    }\n",
       "</style>\n",
       "<table border=\"1\" class=\"dataframe\">\n",
       "  <thead>\n",
       "    <tr style=\"text-align: right;\">\n",
       "      <th></th>\n",
       "      <th>age</th>\n",
       "      <th>employ</th>\n",
       "      <th>address</th>\n",
       "      <th>income</th>\n",
       "      <th>debtinc</th>\n",
       "      <th>creddebt</th>\n",
       "      <th>othdebt</th>\n",
       "    </tr>\n",
       "  </thead>\n",
       "  <tbody>\n",
       "    <tr>\n",
       "      <th>0</th>\n",
       "      <td>32.356193</td>\n",
       "      <td>7.236156</td>\n",
       "      <td>2.601503</td>\n",
       "      <td>89.801565</td>\n",
       "      <td>9.3</td>\n",
       "      <td>11.359392</td>\n",
       "      <td>5.008608</td>\n",
       "    </tr>\n",
       "    <tr>\n",
       "      <th>1</th>\n",
       "      <td>27.000000</td>\n",
       "      <td>10.000000</td>\n",
       "      <td>6.000000</td>\n",
       "      <td>31.000000</td>\n",
       "      <td>17.3</td>\n",
       "      <td>1.362202</td>\n",
       "      <td>4.000798</td>\n",
       "    </tr>\n",
       "    <tr>\n",
       "      <th>2</th>\n",
       "      <td>40.000000</td>\n",
       "      <td>15.000000</td>\n",
       "      <td>14.000000</td>\n",
       "      <td>55.000000</td>\n",
       "      <td>5.5</td>\n",
       "      <td>0.856075</td>\n",
       "      <td>2.168925</td>\n",
       "    </tr>\n",
       "    <tr>\n",
       "      <th>3</th>\n",
       "      <td>45.812528</td>\n",
       "      <td>17.114644</td>\n",
       "      <td>16.862865</td>\n",
       "      <td>82.601082</td>\n",
       "      <td>2.9</td>\n",
       "      <td>2.658720</td>\n",
       "      <td>0.821280</td>\n",
       "    </tr>\n",
       "    <tr>\n",
       "      <th>4</th>\n",
       "      <td>24.000000</td>\n",
       "      <td>2.000000</td>\n",
       "      <td>0.000000</td>\n",
       "      <td>28.000000</td>\n",
       "      <td>17.3</td>\n",
       "      <td>1.787436</td>\n",
       "      <td>3.056564</td>\n",
       "    </tr>\n",
       "    <tr>\n",
       "      <th>...</th>\n",
       "      <td>...</td>\n",
       "      <td>...</td>\n",
       "      <td>...</td>\n",
       "      <td>...</td>\n",
       "      <td>...</td>\n",
       "      <td>...</td>\n",
       "      <td>...</td>\n",
       "    </tr>\n",
       "    <tr>\n",
       "      <th>845</th>\n",
       "      <td>34.000000</td>\n",
       "      <td>12.000000</td>\n",
       "      <td>15.000000</td>\n",
       "      <td>32.000000</td>\n",
       "      <td>2.7</td>\n",
       "      <td>0.239328</td>\n",
       "      <td>0.624672</td>\n",
       "    </tr>\n",
       "    <tr>\n",
       "      <th>846</th>\n",
       "      <td>40.556120</td>\n",
       "      <td>17.662846</td>\n",
       "      <td>7.265821</td>\n",
       "      <td>89.968082</td>\n",
       "      <td>5.7</td>\n",
       "      <td>4.026708</td>\n",
       "      <td>2.585292</td>\n",
       "    </tr>\n",
       "    <tr>\n",
       "      <th>847</th>\n",
       "      <td>48.000000</td>\n",
       "      <td>13.000000</td>\n",
       "      <td>11.000000</td>\n",
       "      <td>38.000000</td>\n",
       "      <td>10.8</td>\n",
       "      <td>0.722304</td>\n",
       "      <td>3.381696</td>\n",
       "    </tr>\n",
       "    <tr>\n",
       "      <th>848</th>\n",
       "      <td>35.000000</td>\n",
       "      <td>1.000000</td>\n",
       "      <td>11.000000</td>\n",
       "      <td>24.000000</td>\n",
       "      <td>7.8</td>\n",
       "      <td>0.417456</td>\n",
       "      <td>1.454544</td>\n",
       "    </tr>\n",
       "    <tr>\n",
       "      <th>849</th>\n",
       "      <td>37.000000</td>\n",
       "      <td>20.000000</td>\n",
       "      <td>13.000000</td>\n",
       "      <td>41.000000</td>\n",
       "      <td>12.9</td>\n",
       "      <td>0.899130</td>\n",
       "      <td>4.389870</td>\n",
       "    </tr>\n",
       "  </tbody>\n",
       "</table>\n",
       "<p>850 rows × 7 columns</p>\n",
       "</div>"
      ],
      "text/plain": [
       "           age     employ    address     income  debtinc   creddebt   othdebt\n",
       "0    32.356193   7.236156   2.601503  89.801565      9.3  11.359392  5.008608\n",
       "1    27.000000  10.000000   6.000000  31.000000     17.3   1.362202  4.000798\n",
       "2    40.000000  15.000000  14.000000  55.000000      5.5   0.856075  2.168925\n",
       "3    45.812528  17.114644  16.862865  82.601082      2.9   2.658720  0.821280\n",
       "4    24.000000   2.000000   0.000000  28.000000     17.3   1.787436  3.056564\n",
       "..         ...        ...        ...        ...      ...        ...       ...\n",
       "845  34.000000  12.000000  15.000000  32.000000      2.7   0.239328  0.624672\n",
       "846  40.556120  17.662846   7.265821  89.968082      5.7   4.026708  2.585292\n",
       "847  48.000000  13.000000  11.000000  38.000000     10.8   0.722304  3.381696\n",
       "848  35.000000   1.000000  11.000000  24.000000      7.8   0.417456  1.454544\n",
       "849  37.000000  20.000000  13.000000  41.000000     12.9   0.899130  4.389870\n",
       "\n",
       "[850 rows x 7 columns]"
      ]
     },
     "execution_count": 31,
     "metadata": {},
     "output_type": "execute_result"
    }
   ],
   "source": [
    "df_corr = bank.loc[:,cnames]\n",
    "df_corr"
   ]
  },
  {
   "cell_type": "code",
   "execution_count": 32,
   "metadata": {
    "colab": {
     "base_uri": "https://localhost:8080/",
     "height": 459
    },
    "id": "HAGr8hpcK7ba",
    "outputId": "02e1c91c-2d5b-453f-c57a-c500b116c810"
   },
   "outputs": [
    {
     "name": "stderr",
     "output_type": "stream",
     "text": [
      "C:\\Users\\saigo\\anaconda3\\lib\\site-packages\\ipykernel_launcher.py:9: DeprecationWarning: `np.bool` is a deprecated alias for the builtin `bool`. To silence this warning, use `bool` by itself. Doing this will not modify any behavior and is safe. If you specifically wanted the numpy scalar type, use `np.bool_` here.\n",
      "Deprecated in NumPy 1.20; for more details and guidance: https://numpy.org/devdocs/release/1.20.0-notes.html#deprecations\n",
      "  if __name__ == '__main__':\n"
     ]
    },
    {
     "data": {
      "text/plain": [
       "<AxesSubplot:>"
      ]
     },
     "execution_count": 32,
     "metadata": {},
     "output_type": "execute_result"
    },
    {
     "data": {
      "image/png": "[encoded data removed]",
      "text/plain": [
       "<Figure size 504x360 with 2 Axes>"
      ]
     },
     "metadata": {
      "needs_background": "light"
     },
     "output_type": "display_data"
    }
   ],
   "source": [
    "#Set the width and hieght of the correlation plot\n",
    "\n",
    "f, ax = plt.subplots(figsize = (7, 5))\n",
    "\n",
    "#Generate correlation matrix\n",
    "corr = df_corr.corr()\n",
    "\n",
    "#Plot using seaborn library\n",
    "sns.heatmap(corr, mask=np.zeros_like(corr, dtype=np.bool), cmap=sns.diverging_palette(220, 10, as_cmap=True),\n",
    "            square=True, ax=ax , annot = True )"
   ]
  },
  {
   "cell_type": "code",
   "execution_count": 33,
   "metadata": {
    "colab": {
     "base_uri": "https://localhost:8080/",
     "height": 329
    },
    "id": "UkKizzjdK7ba",
    "outputId": "a1c2f5f4-db74-4c10-c934-96d416f482b8",
    "scrolled": true
   },
   "outputs": [
    {
     "data": {
      "text/plain": [
       "<AxesSubplot:>"
      ]
     },
     "execution_count": 33,
     "metadata": {},
     "output_type": "execute_result"
    },
    {
     "data": {
      "image/png": "[encoded data removed]",
      "text/plain": [
       "<Figure size 432x288 with 2 Axes>"
      ]
     },
     "metadata": {
      "needs_background": "light"
     },
     "output_type": "display_data"
    }
   ],
   "source": [
    "\n",
    "df_1 = bank.corr()\n",
    "sns.heatmap(df_1 , annot = True , cmap = \"coolwarm\")"
   ]
  },
  {
   "cell_type": "markdown",
   "metadata": {
    "id": "ewqH-pNnK7ba"
   },
   "source": [
    "#### As u can see above in plot, no any variable is identical to other var, it means these vars are no hiighly correlated variables,  so we have to carry all variables and we will put all of them in model developement as all vars are imp right now."
   ]
  },
  {
   "cell_type": "code",
   "execution_count": 34,
   "metadata": {
    "colab": {
     "base_uri": "https://localhost:8080/"
    },
    "id": "96TrvgzvC79m",
    "outputId": "d45e3905-a057-404d-e7d7-8824ef45f56a"
   },
   "outputs": [
    {
     "data": {
      "text/plain": [
       "array([2.96064072, 1.        , 2.24554266, 2.        , 3.        ,\n",
       "       4.        , 2.79827474, 1.97645001, 2.25922096, 2.38215714,\n",
       "       1.72680475, 1.8126923 , 1.9645205 , 2.27977579, 1.32411487,\n",
       "       3.10697651, 1.39366539, 1.75318272, 1.32647735, 1.97201906,\n",
       "       2.6976684 , 5.        , 1.81890805, 2.35655901, 1.27382004,\n",
       "       2.01090174, 1.94521205, 2.0093577 , 2.62380155, 1.53298316,\n",
       "       1.28018361, 1.31112169, 1.32483921, 1.62666983, 1.86209418,\n",
       "       1.32740931, 1.85469455, 1.90879037, 1.26029512, 1.76154984,\n",
       "       2.33544809, 1.97650496, 1.60802394, 2.37331826, 1.59472773,\n",
       "       1.2113529 , 2.1230242 , 1.32070963, 1.56469926, 2.09702113,\n",
       "       1.32444713, 2.34431695, 1.24268178, 1.37444458, 1.78899958,\n",
       "       1.86508575, 1.28881365, 1.5819134 ])"
      ]
     },
     "execution_count": 34,
     "metadata": {},
     "output_type": "execute_result"
    }
   ],
   "source": [
    "bank['ed'].unique()"
   ]
  },
  {
   "cell_type": "code",
   "execution_count": 35,
   "metadata": {
    "colab": {
     "base_uri": "https://localhost:8080/"
    },
    "id": "BpHtvUkcDY4I",
    "outputId": "8cf4977b-a78d-487c-e08b-59b09183be98"
   },
   "outputs": [
    {
     "data": {
      "text/plain": [
       "array([1., 0.])"
      ]
     },
     "execution_count": 35,
     "metadata": {},
     "output_type": "execute_result"
    }
   ],
   "source": [
    "bank['result'].unique()"
   ]
  },
  {
   "cell_type": "code",
   "execution_count": 36,
   "metadata": {
    "colab": {
     "base_uri": "https://localhost:8080/"
    },
    "id": "IuMgCNpZEexI",
    "outputId": "02136c48-1f5e-493a-ba7c-626b71b06666"
   },
   "outputs": [
    {
     "name": "stdout",
     "output_type": "stream",
     "text": [
      "category\n",
      "category\n"
     ]
    }
   ],
   "source": [
    "bank['ed'] = pd.Categorical(bank['ed'])\n",
    "print(bank.ed.dtype)\n",
    "\n",
    "bank['result'] = pd.Categorical(bank['result'])\n",
    "print(bank.result.dtype)"
   ]
  },
  {
   "cell_type": "markdown",
   "metadata": {
    "id": "PN2Z3DcUDzt3"
   },
   "source": [
    "As we can see here both ed and result columns are categorical\n",
    "so we perform chi 2 statistics to see the relation between them"
   ]
  },
  {
   "cell_type": "code",
   "execution_count": 37,
   "metadata": {
    "colab": {
     "base_uri": "https://localhost:8080/"
    },
    "id": "0_G0g3g2Dmg-",
    "outputId": "9236f16b-3150-4926-9c3e-61540b1ced96"
   },
   "outputs": [
    {
     "name": "stdout",
     "output_type": "stream",
     "text": [
      "ed\n",
      "0.586723187105507\n"
     ]
    }
   ],
   "source": [
    "cat_names = [\"ed\"]\n",
    "from scipy.stats import chi2_contingency  # for chi-sqr test and comtingency table\n",
    "for i in cat_names:\n",
    "    print(i)\n",
    "    chi2, p, dof, ex = chi2_contingency(pd.crosstab(bank['result'], bank[i]))\n",
    "    print(p)"
   ]
  },
  {
   "cell_type": "markdown",
   "metadata": {
    "id": "3N-qH2UOELpo"
   },
   "source": [
    "As we can, see , p Value of cat var (ed) is > 0.05 , It means We Accept Null Hhypothesis saying that these two variables are , not imp to each other, n we can drop any one of them instead of carrying both same vars."
   ]
  },
  {
   "cell_type": "code",
   "execution_count": 38,
   "metadata": {
    "colab": {
     "base_uri": "https://localhost:8080/",
     "height": 112
    },
    "id": "HzP5VnSAEi2n",
    "outputId": "62a662a5-8857-40da-cec4-752065152087"
   },
   "outputs": [],
   "source": [
    "#  Now remove less important features  / Diamension reduction\n",
    "from copy import deepcopy\n",
    "bank = bank.drop(['ed'], axis=1)\n",
    "bank.head(2)\n",
    "bank_1=deepcopy(bank)"
   ]
  },
  {
   "cell_type": "code",
   "execution_count": 39,
   "metadata": {},
   "outputs": [
    {
     "data": {
      "text/html": [
       "<div>\n",
       "<style scoped>\n",
       "    .dataframe tbody tr th:only-of-type {\n",
       "        vertical-align: middle;\n",
       "    }\n",
       "\n",
       "    .dataframe tbody tr th {\n",
       "        vertical-align: top;\n",
       "    }\n",
       "\n",
       "    .dataframe thead th {\n",
       "        text-align: right;\n",
       "    }\n",
       "</style>\n",
       "<table border=\"1\" class=\"dataframe\">\n",
       "  <thead>\n",
       "    <tr style=\"text-align: right;\">\n",
       "      <th></th>\n",
       "      <th>age</th>\n",
       "      <th>employ</th>\n",
       "      <th>address</th>\n",
       "      <th>income</th>\n",
       "      <th>debtinc</th>\n",
       "      <th>creddebt</th>\n",
       "      <th>othdebt</th>\n",
       "      <th>result</th>\n",
       "    </tr>\n",
       "  </thead>\n",
       "  <tbody>\n",
       "    <tr>\n",
       "      <th>0</th>\n",
       "      <td>32.356193</td>\n",
       "      <td>7.236156</td>\n",
       "      <td>2.601503</td>\n",
       "      <td>89.801565</td>\n",
       "      <td>9.3</td>\n",
       "      <td>11.359392</td>\n",
       "      <td>5.008608</td>\n",
       "      <td>1.0</td>\n",
       "    </tr>\n",
       "    <tr>\n",
       "      <th>1</th>\n",
       "      <td>27.000000</td>\n",
       "      <td>10.000000</td>\n",
       "      <td>6.000000</td>\n",
       "      <td>31.000000</td>\n",
       "      <td>17.3</td>\n",
       "      <td>1.362202</td>\n",
       "      <td>4.000798</td>\n",
       "      <td>0.0</td>\n",
       "    </tr>\n",
       "    <tr>\n",
       "      <th>2</th>\n",
       "      <td>40.000000</td>\n",
       "      <td>15.000000</td>\n",
       "      <td>14.000000</td>\n",
       "      <td>55.000000</td>\n",
       "      <td>5.5</td>\n",
       "      <td>0.856075</td>\n",
       "      <td>2.168925</td>\n",
       "      <td>0.0</td>\n",
       "    </tr>\n",
       "    <tr>\n",
       "      <th>3</th>\n",
       "      <td>45.812528</td>\n",
       "      <td>17.114644</td>\n",
       "      <td>16.862865</td>\n",
       "      <td>82.601082</td>\n",
       "      <td>2.9</td>\n",
       "      <td>2.658720</td>\n",
       "      <td>0.821280</td>\n",
       "      <td>0.0</td>\n",
       "    </tr>\n",
       "    <tr>\n",
       "      <th>4</th>\n",
       "      <td>24.000000</td>\n",
       "      <td>2.000000</td>\n",
       "      <td>0.000000</td>\n",
       "      <td>28.000000</td>\n",
       "      <td>17.3</td>\n",
       "      <td>1.787436</td>\n",
       "      <td>3.056564</td>\n",
       "      <td>1.0</td>\n",
       "    </tr>\n",
       "  </tbody>\n",
       "</table>\n",
       "</div>"
      ],
      "text/plain": [
       "         age     employ    address     income  debtinc   creddebt   othdebt  \\\n",
       "0  32.356193   7.236156   2.601503  89.801565      9.3  11.359392  5.008608   \n",
       "1  27.000000  10.000000   6.000000  31.000000     17.3   1.362202  4.000798   \n",
       "2  40.000000  15.000000  14.000000  55.000000      5.5   0.856075  2.168925   \n",
       "3  45.812528  17.114644  16.862865  82.601082      2.9   2.658720  0.821280   \n",
       "4  24.000000   2.000000   0.000000  28.000000     17.3   1.787436  3.056564   \n",
       "\n",
       "  result  \n",
       "0    1.0  \n",
       "1    0.0  \n",
       "2    0.0  \n",
       "3    0.0  \n",
       "4    1.0  "
      ]
     },
     "execution_count": 39,
     "metadata": {},
     "output_type": "execute_result"
    }
   ],
   "source": [
    "bank_1.head()\n"
   ]
  },
  {
   "cell_type": "markdown",
   "metadata": {
    "id": "1MGLmp1PK7bc"
   },
   "source": [
    "# Feature Scaling \n",
    "## scale tht imp features in measurable units\n",
    "### ___1) Scaling by Normalization\n",
    "### __or_2) Scaling by Standardization"
   ]
  },
  {
   "cell_type": "code",
   "execution_count": 40,
   "metadata": {
    "colab": {
     "base_uri": "https://localhost:8080/",
     "height": 359
    },
    "id": "OP19qp6iK7bc",
    "outputId": "7a87e773-300a-428b-abc0-92eea5d59585"
   },
   "outputs": [
    {
     "data": {
      "text/plain": [
       "(array([ 28.,  51.,  88.,  89.,  72., 100.,  73.,  99.,  77.,  47.,  60.,\n",
       "         30.,  18.,  13.,   5.]),\n",
       " array([20. , 22.4, 24.8, 27.2, 29.6, 32. , 34.4, 36.8, 39.2, 41.6, 44. ,\n",
       "        46.4, 48.8, 51.2, 53.6, 56. ]),\n",
       " <BarContainer object of 15 artists>)"
      ]
     },
     "execution_count": 40,
     "metadata": {},
     "output_type": "execute_result"
    },
    {
     "data": {
      "image/png": "[encoded data removed]",
      "text/plain": [
       "<Figure size 432x288 with 1 Axes>"
      ]
     },
     "metadata": {
      "needs_background": "light"
     },
     "output_type": "display_data"
    }
   ],
   "source": [
    "#check Normality by Histogram Before Normalization / Standerdization\n",
    "\n",
    "%matplotlib inline  \n",
    "plt.hist(bank['age'], bins='auto')"
   ]
  },
  {
   "cell_type": "code",
   "execution_count": 41,
   "metadata": {
    "colab": {
     "base_uri": "https://localhost:8080/",
     "height": 398
    },
    "id": "bafR-1ZdK7bc",
    "outputId": "f35a7a89-fe89-4dda-cdf7-059434813f06",
    "scrolled": true
   },
   "outputs": [
    {
     "data": {
      "text/plain": [
       "(array([ 93., 153., 146.,  79.,  80.,  57.,  43.,  32.,  36.,  25.,  25.,\n",
       "         30.,  20.,  31.]),\n",
       " array([ 13.        ,  19.35714286,  25.71428571,  32.07142857,\n",
       "         38.42857143,  44.78571429,  51.14285714,  57.5       ,\n",
       "         63.85714286,  70.21428571,  76.57142857,  82.92857143,\n",
       "         89.28571429,  95.64285714, 102.        ]),\n",
       " <BarContainer object of 14 artists>)"
      ]
     },
     "execution_count": 41,
     "metadata": {},
     "output_type": "execute_result"
    },
    {
     "data": {
      "image/png": "[encoded data removed]",
      "text/plain": [
       "<Figure size 432x288 with 1 Axes>"
      ]
     },
     "metadata": {
      "needs_background": "light"
     },
     "output_type": "display_data"
    }
   ],
   "source": [
    "    # Again verify it\n",
    "    \n",
    "%matplotlib inline  \n",
    "plt.hist(bank['income'], bins='auto')"
   ]
  },
  {
   "cell_type": "markdown",
   "metadata": {
    "id": "KpehyopAK7bc"
   },
   "source": [
    " Since we can see that , data is not normallaly distributed , Hence go for **Normalization** 1st instead of Stdn"
   ]
  },
  {
   "cell_type": "code",
   "execution_count": 42,
   "metadata": {
    "colab": {
     "base_uri": "https://localhost:8080/"
    },
    "id": "1JLGsSWPK7bd",
    "outputId": "7fbf93ba-e100-48b0-d4ad-3c905ed05e1c"
   },
   "outputs": [
    {
     "data": {
      "text/plain": [
       "['age', 'employ', 'address', 'income', 'debtinc', 'creddebt', 'othdebt']"
      ]
     },
     "execution_count": 42,
     "metadata": {},
     "output_type": "execute_result"
    }
   ],
   "source": [
    "cnames"
   ]
  },
  {
   "cell_type": "code",
   "execution_count": 43,
   "metadata": {
    "colab": {
     "base_uri": "https://localhost:8080/"
    },
    "id": "f4Jvz2X2K7bd",
    "outputId": "ccf7c6a6-ad85-4b80-84d0-1eba7a21a6dd"
   },
   "outputs": [
    {
     "name": "stdout",
     "output_type": "stream",
     "text": [
      "age\n",
      "employ\n",
      "address\n",
      "income\n",
      "debtinc\n",
      "creddebt\n",
      "othdebt\n"
     ]
    }
   ],
   "source": [
    "#Nomalisation\n",
    "\n",
    "for i in cnames:\n",
    "    print(i)\n",
    "    bank[i] = (bank[i] - min(bank[i]))/(max(bank[i]) - min(bank[i]))"
   ]
  },
  {
   "cell_type": "markdown",
   "metadata": {
    "id": "_vMSeVG6Prg3"
   },
   "source": [
    "# Machine Learning Algorithms\n",
    "\n",
    "\n"
   ]
  },
  {
   "cell_type": "code",
   "execution_count": 44,
   "metadata": {
    "id": "I_FfZ4lEK7bd"
   },
   "outputs": [],
   "source": [
    "from sklearn.metrics import accuracy_score"
   ]
  },
  {
   "cell_type": "code",
   "execution_count": 45,
   "metadata": {
    "id": "zTaDTPGyK7be"
   },
   "outputs": [],
   "source": [
    "from sklearn.model_selection import train_test_split"
   ]
  },
  {
   "cell_type": "code",
   "execution_count": 46,
   "metadata": {
    "id": "cpDaoE9_K7be"
   },
   "outputs": [],
   "source": [
    "bank['result'] = bank['result'].astype('int64')#chaning dtype for result from float to int"
   ]
  },
  {
   "cell_type": "code",
   "execution_count": 47,
   "metadata": {
    "colab": {
     "base_uri": "https://localhost:8080/"
    },
    "id": "Tdi0VSADK7be",
    "outputId": "2835f757-d828-4267-bec3-b99a92736a41",
    "scrolled": true
   },
   "outputs": [
    {
     "name": "stdout",
     "output_type": "stream",
     "text": [
      "0      0.343228\n",
      "1      0.194444\n",
      "2      0.555556\n",
      "3      0.717015\n",
      "4      0.111111\n",
      "         ...   \n",
      "845    0.388889\n",
      "846    0.571003\n",
      "847    0.777778\n",
      "848    0.416667\n",
      "849    0.472222\n",
      "Name: age, Length: 850, dtype: float64\n"
     ]
    }
   ],
   "source": [
    "bank.head(2)\n",
    "print(bank.age)\n"
   ]
  },
  {
   "cell_type": "code",
   "execution_count": 48,
   "metadata": {
    "id": "Ibzen4z1K7be"
   },
   "outputs": [],
   "source": [
    "#Now divide the data into train and test\n",
    "\n",
    "X= bank.values[:,0:7]     #saving all   var's in X\n",
    "Y= bank.values[:,7]        #saving 1 dep var in Y"
   ]
  },
  {
   "cell_type": "code",
   "execution_count": 49,
   "metadata": {
    "colab": {
     "base_uri": "https://localhost:8080/",
     "height": 112
    },
    "id": "shMZ1aANK7be",
    "outputId": "1a5eae13-3fe0-4ac7-ffdc-99154d4189e3"
   },
   "outputs": [
    {
     "data": {
      "text/html": [
       "<div>\n",
       "<style scoped>\n",
       "    .dataframe tbody tr th:only-of-type {\n",
       "        vertical-align: middle;\n",
       "    }\n",
       "\n",
       "    .dataframe tbody tr th {\n",
       "        vertical-align: top;\n",
       "    }\n",
       "\n",
       "    .dataframe thead th {\n",
       "        text-align: right;\n",
       "    }\n",
       "</style>\n",
       "<table border=\"1\" class=\"dataframe\">\n",
       "  <thead>\n",
       "    <tr style=\"text-align: right;\">\n",
       "      <th></th>\n",
       "      <th>0</th>\n",
       "      <th>1</th>\n",
       "      <th>2</th>\n",
       "      <th>3</th>\n",
       "      <th>4</th>\n",
       "      <th>5</th>\n",
       "      <th>6</th>\n",
       "    </tr>\n",
       "  </thead>\n",
       "  <tbody>\n",
       "    <tr>\n",
       "      <th>0</th>\n",
       "      <td>0.343228</td>\n",
       "      <td>0.241205</td>\n",
       "      <td>0.083919</td>\n",
       "      <td>0.862939</td>\n",
       "      <td>0.223301</td>\n",
       "      <td>0.552210</td>\n",
       "      <td>0.141188</td>\n",
       "    </tr>\n",
       "    <tr>\n",
       "      <th>1</th>\n",
       "      <td>0.194444</td>\n",
       "      <td>0.333333</td>\n",
       "      <td>0.193548</td>\n",
       "      <td>0.202247</td>\n",
       "      <td>0.417476</td>\n",
       "      <td>0.065719</td>\n",
       "      <td>0.112518</td>\n",
       "    </tr>\n",
       "  </tbody>\n",
       "</table>\n",
       "</div>"
      ],
      "text/plain": [
       "          0         1         2         3         4         5         6\n",
       "0  0.343228  0.241205  0.083919  0.862939  0.223301  0.552210  0.141188\n",
       "1  0.194444  0.333333  0.193548  0.202247  0.417476  0.065719  0.112518"
      ]
     },
     "execution_count": 49,
     "metadata": {},
     "output_type": "execute_result"
    }
   ],
   "source": [
    "pd.DataFrame(X).head(2)"
   ]
  },
  {
   "cell_type": "code",
   "execution_count": 50,
   "metadata": {
    "id": "fhKlbet_K7bf"
   },
   "outputs": [],
   "source": [
    "#Now split the data into train and test\n",
    "   #devided 80% and 20% of ALL var's obs (except 'default' var) in X_train and into X_test Respectively\n",
    "   #devided 80% and 20% of Dep.Var's obs ( default var's) into y_train and into y_test Respectively\n",
    "\n",
    "X_train, X_test, y_train, y_test = train_test_split(X,Y,test_size=0.2,random_state=12)\n"
   ]
  },
  {
   "cell_type": "code",
   "execution_count": 51,
   "metadata": {
    "id": "h7TGaSNfMEus"
   },
   "outputs": [],
   "source": [
    "import warnings\n",
    "warnings.filterwarnings(\"ignore\")"
   ]
  },
  {
   "cell_type": "code",
   "execution_count": 52,
   "metadata": {
    "id": "MOauqTdlfxmR"
   },
   "outputs": [],
   "source": [
    "models=[]\n",
    "\n",
    "\n",
    "from sklearn.linear_model import LogisticRegression\n",
    "logre = LogisticRegression()\n",
    "models.append(logre)\n",
    "\n",
    "from sklearn.svm._classes import LinearSVC\n",
    "lsvc=LinearSVC()\n",
    "models.append(lsvc)\n",
    "\n",
    "from sklearn.linear_model import LogisticRegressionCV\n",
    "logrecv=LogisticRegressionCV()\n",
    "models.append(logrecv)\n",
    "\n",
    "from sklearn.svm import SVC\n",
    "svc=SVC()\n",
    "models.append(svc)\n",
    "\n",
    "from sklearn.linear_model import SGDClassifier\n",
    "sgd=SGDClassifier()\n",
    "models.append(sgd)\n",
    "\n",
    "from sklearn.naive_bayes import GaussianNB\n",
    "nb=GaussianNB()\n",
    "models.append(nb)\n",
    "\n",
    "from sklearn.tree import  DecisionTreeClassifier\n",
    "dt=DecisionTreeClassifier()\n",
    "models.append(dt)\n",
    "\n",
    "from sklearn.ensemble import RandomForestClassifier\n",
    "rf=RandomForestClassifier()\n",
    "models.append(rf)\n",
    "\n",
    "from sklearn.neighbors import KNeighborsClassifier\n",
    "knn=KNeighborsClassifier()\n",
    "models.append(knn)"
   ]
  },
  {
   "cell_type": "code",
   "execution_count": 53,
   "metadata": {
    "colab": {
     "base_uri": "https://localhost:8080/"
    },
    "id": "dX7vJ8jlfxow",
    "outputId": "ff9fa2e0-b58d-41b7-b6f5-3a411b8667d6"
   },
   "outputs": [
    {
     "name": "stdout",
     "output_type": "stream",
     "text": [
      "LogisticRegression :-  0.8044117647058824\n",
      "LinearSVC :-  0.8161764705882353\n",
      "LogisticRegressionCV :-  0.8264705882352941\n",
      "SVC :-  0.801470588235294\n",
      "SGDClassifier :-  0.8147058823529412\n",
      "GaussianNB :-  0.8117647058823529\n",
      "DecisionTreeClassifier :-  0.7602941176470589\n",
      "RandomForestClassifier :-  0.8088235294117647\n",
      "KNeighborsClassifier :-  0.8014705882352942\n"
     ]
    }
   ],
   "source": [
    "from sklearn.model_selection import KFold,cross_val_score\n",
    "cv=KFold(10)\n",
    "mls=[]\n",
    "scores=[]\n",
    "\n",
    "for model in models:\n",
    "  score=cross_val_score(model,X_train,y_train,cv=cv)\n",
    "  print(str(model).split('(')[0]+' :- ',np.mean(score))\n",
    "  mls.append(str(model).split('(')[0])\n",
    "  scores.append(int(np.mean(score)*100))\n"
   ]
  },
  {
   "cell_type": "code",
   "execution_count": 54,
   "metadata": {
    "colab": {
     "base_uri": "https://localhost:8080/",
     "height": 598
    },
    "id": "9Ex8Hn96gMYo",
    "outputId": "b685f24a-522f-4c93-a89e-3e6b9eecd085"
   },
   "outputs": [
    {
     "data": {
      "image/png": "[encoded data removed]",
      "text/plain": [
       "<Figure size 1800x720 with 1 Axes>"
      ]
     },
     "metadata": {
      "needs_background": "light"
     },
     "output_type": "display_data"
    }
   ],
   "source": [
    "import matplotlib.pyplot as plt\n",
    "ml_scores= pd.DataFrame({\"models\": mls,\"scores\": scores})\n",
    "import seaborn as sns\n",
    "ml_scores.sort_values('scores')\n",
    "\n",
    "plt.figure(figsize=(25,10))\n",
    "sns.barplot(x='models',y=\"scores\",data=ml_scores,palette=\"Blues_d\",order=ml_scores.sort_values('scores').models)\n",
    "\n",
    "\n",
    "def addtext(x,y):\n",
    "    for i in range(len(x)):\n",
    "        plt.text(i,y[i],str(y[i])+'%')\n",
    "addtext(models,sorted(scores)) \n",
    "plt.xlabel(\"models\",size=16)\n",
    "plt.ylabel(\"scores\", size=16)\n",
    "plt.show()"
   ]
  },
  {
   "cell_type": "code",
   "execution_count": 55,
   "metadata": {
    "colab": {
     "base_uri": "https://localhost:8080/"
    },
    "id": "TysE_s4cgSjM",
    "outputId": "4bbd8c21-2b03-42ae-d3ff-77dbfa1b733f"
   },
   "outputs": [
    {
     "name": "stdout",
     "output_type": "stream",
     "text": [
      "LogisticRegression()\n",
      "Train Accuracy:- 0.8088235294117647\n",
      "Test Accuracy:- 0.7705882352941177\n",
      "\n",
      "LinearSVC()\n",
      "Train Accuracy:- 0.8264705882352941\n",
      "Test Accuracy:- 0.7647058823529411\n",
      "\n",
      "LogisticRegressionCV()\n",
      "Train Accuracy:- 0.8352941176470589\n",
      "Test Accuracy:- 0.7529411764705882\n",
      "\n",
      "SVC()\n",
      "Train Accuracy:- 0.825\n",
      "Test Accuracy:- 0.7823529411764706\n",
      "\n",
      "SGDClassifier()\n",
      "Train Accuracy:- 0.7588235294117647\n",
      "Test Accuracy:- 0.7294117647058823\n",
      "\n",
      "GaussianNB()\n",
      "Train Accuracy:- 0.8132352941176471\n",
      "Test Accuracy:- 0.7647058823529411\n",
      "\n",
      "DecisionTreeClassifier()\n",
      "Train Accuracy:- 1.0\n",
      "Test Accuracy:- 0.7705882352941177\n",
      "\n",
      "RandomForestClassifier()\n",
      "Train Accuracy:- 1.0\n",
      "Test Accuracy:- 0.7764705882352941\n",
      "\n",
      "KNeighborsClassifier()\n",
      "Train Accuracy:- 0.8529411764705882\n",
      "Test Accuracy:- 0.7823529411764706\n",
      "\n"
     ]
    }
   ],
   "source": [
    "\n",
    "for model in models:\n",
    "  model.fit(X_train,y_train)\n",
    "  print(model)\n",
    "  print('Train Accuracy:-',accuracy_score(y_train,model.predict(X_train)))\n",
    "  print('Test Accuracy:-',accuracy_score(y_test,model.predict(X_test)))\n",
    "  print()"
   ]
  },
  {
   "cell_type": "markdown",
   "metadata": {
    "id": "jF4voXfXOBpt"
   },
   "source": [
    "among all these alogirthms we choose Logistic Regression because of its train and test scores which is best fit"
   ]
  },
  {
   "cell_type": "code",
   "execution_count": 56,
   "metadata": {
    "colab": {
     "base_uri": "https://localhost:8080/"
    },
    "id": "gvxT6xb0O7RE",
    "outputId": "a2964dcd-5493-48bc-92c5-eef4f735322b"
   },
   "outputs": [
    {
     "data": {
      "text/plain": [
       "array([0.38888889, 0.46666667, 0.25806452, 0.16853933, 0.41019417,\n",
       "       0.05479149, 0.10175195])"
      ]
     },
     "execution_count": 56,
     "metadata": {},
     "output_type": "execute_result"
    }
   ],
   "source": [
    "X_train[0]"
   ]
  },
  {
   "cell_type": "code",
   "execution_count": 57,
   "metadata": {
    "colab": {
     "base_uri": "https://localhost:8080/"
    },
    "id": "-AX4QVEAPl18",
    "outputId": "3e4402dc-f339-4c0c-bc49-2c14d12f4555"
   },
   "outputs": [
    {
     "data": {
      "text/plain": [
       "['age', 'employ', 'address', 'income', 'debtinc', 'creddebt', 'othdebt']"
      ]
     },
     "execution_count": 57,
     "metadata": {},
     "output_type": "execute_result"
    }
   ],
   "source": [
    "cnames"
   ]
  },
  {
   "cell_type": "code",
   "execution_count": 59,
   "metadata": {
    "id": "Lk_nYLeyf3Wa"
   },
   "outputs": [],
   "source": [
    "import pickle\n",
    "logre_model=pickle.load(open('C:/Users/saigo/Desktop/s/logre_model','rb'))\n",
    "\n"
   ]
  },
  {
   "cell_type": "code",
   "execution_count": 60,
   "metadata": {
    "colab": {
     "base_uri": "https://localhost:8080/"
    },
    "id": "05FGSz-BX3xB",
    "outputId": "0e859251-0fa3-41a7-faad-0aaf0c198363"
   },
   "outputs": [
    {
     "data": {
      "text/plain": [
       "array([0.38888889, 0.46666667, 0.25806452, 0.16853933, 0.41019417,\n",
       "       0.05479149, 0.10175195])"
      ]
     },
     "execution_count": 60,
     "metadata": {},
     "output_type": "execute_result"
    }
   ],
   "source": [
    "X_train[0]"
   ]
  },
  {
   "cell_type": "code",
   "execution_count": 61,
   "metadata": {
    "id": "tPjrlbKUYsnw"
   },
   "outputs": [],
   "source": [
    "user_input=np.array(X_train[0])"
   ]
  },
  {
   "cell_type": "code",
   "execution_count": 62,
   "metadata": {
    "id": "uCiUxTgdYveN"
   },
   "outputs": [],
   "source": [
    "user_input=user_input.reshape(1,-1)"
   ]
  },
  {
   "cell_type": "code",
   "execution_count": 63,
   "metadata": {
    "colab": {
     "base_uri": "https://localhost:8080/"
    },
    "id": "Lc1-Vw6NY5dV",
    "outputId": "e54906bf-8e13-47ce-a861-dfa0569bba59"
   },
   "outputs": [
    {
     "data": {
      "text/plain": [
       "0.0"
      ]
     },
     "execution_count": 63,
     "metadata": {},
     "output_type": "execute_result"
    }
   ],
   "source": [
    "logre_model.predict(user_input)[0]"
   ]
  },
  {
   "cell_type": "code",
   "execution_count": null,
   "metadata": {
    "colab": {
     "base_uri": "https://localhost:8080/"
    },
    "id": "FB6NM6vNZ1Li",
    "outputId": "cdc9b438-f714-4524-b2d2-34cf83073d41"
   },
   "outputs": [],
   "source": [
    "y_train[0]"
   ]
  },
  {
   "cell_type": "code",
   "execution_count": null,
   "metadata": {
    "colab": {
     "base_uri": "https://localhost:8080/"
    },
    "id": "SwImChrMgPhc",
    "outputId": "573e1530-831f-4e38-a28e-76bdf4b1b6d1"
   },
   "outputs": [],
   "source": [
    "pip install pywebio"
   ]
  },
  {
   "cell_type": "code",
   "execution_count": null,
   "metadata": {},
   "outputs": [],
   "source": [
    "#import pickle\n",
    "#saving ml model\n",
    "#pickle.dump(logre,open('C:/Users/saigo/Desktop/s/logre_model','wb'))\n",
    "#loading ml model\n",
    "#logre_model=pickle.load(open('C:/Users/saigo/Desktop/s/logre_model','rb'))"
   ]
  },
  {
   "cell_type": "code",
   "execution_count": null,
   "metadata": {
    "colab": {
     "base_uri": "https://localhost:8080/"
    },
    "id": "Xvh5ge9MgXyP",
    "outputId": "9674336b-bd86-4926-b787-ca55f45c14aa"
   },
   "outputs": [
    {
     "name": "stdout",
     "output_type": "stream",
     "text": [
      " * Serving Flask app \"__main__\" (lazy loading)\n",
      " * Environment: production\n",
      "   WARNING: This is a development server. Do not use it in a production deployment.\n",
      "   Use a production WSGI server instead.\n",
      " * Debug mode: off\n"
     ]
    },
    {
     "name": "stderr",
     "output_type": "stream",
     "text": [
      " * Running on http://localhost:88/ (Press CTRL+C to quit)\n",
      "127.0.0.1 - - [20/Jun/2022 10:24:14] \"\u001b[37mGET / HTTP/1.1\u001b[0m\" 200 -\n",
      "127.0.0.1 - - [20/Jun/2022 10:24:14] \"\u001b[37mGET /?app=index HTTP/1.1\u001b[0m\" 200 -\n",
      "127.0.0.1 - - [20/Jun/2022 10:24:15] \"\u001b[37mGET /?app=index HTTP/1.1\u001b[0m\" 200 -\n",
      "127.0.0.1 - - [20/Jun/2022 10:24:17] \"\u001b[37mGET /?app=index HTTP/1.1\u001b[0m\" 200 -\n",
      "127.0.0.1 - - [20/Jun/2022 10:24:17] \"\u001b[37mPOST /?app=index HTTP/1.1\u001b[0m\" 200 -\n",
      "127.0.0.1 - - [20/Jun/2022 10:24:18] \"\u001b[37mGET /?app=index HTTP/1.1\u001b[0m\" 200 -\n",
      "127.0.0.1 - - [20/Jun/2022 10:24:18] \"\u001b[37mPOST /?app=index HTTP/1.1\u001b[0m\" 200 -\n",
      "127.0.0.1 - - [20/Jun/2022 10:24:19] \"\u001b[37mGET /?app=index HTTP/1.1\u001b[0m\" 200 -\n",
      "127.0.0.1 - - [20/Jun/2022 10:24:19] \"\u001b[37mGET /?app=index HTTP/1.1\u001b[0m\" 200 -\n",
      "127.0.0.1 - - [20/Jun/2022 10:24:20] \"\u001b[37mPOST /?app=index HTTP/1.1\u001b[0m\" 200 -\n",
      "127.0.0.1 - - [20/Jun/2022 10:24:20] \"\u001b[37mGET /?app=index HTTP/1.1\u001b[0m\" 200 -\n",
      "127.0.0.1 - - [20/Jun/2022 10:24:22] \"\u001b[37mGET /?app=index HTTP/1.1\u001b[0m\" 200 -\n",
      "127.0.0.1 - - [20/Jun/2022 10:24:22] \"\u001b[37mPOST /?app=index HTTP/1.1\u001b[0m\" 200 -\n",
      "127.0.0.1 - - [20/Jun/2022 10:24:22] \"\u001b[37mGET /?app=index HTTP/1.1\u001b[0m\" 200 -\n",
      "127.0.0.1 - - [20/Jun/2022 10:24:24] \"\u001b[37mPOST /?app=index HTTP/1.1\u001b[0m\" 200 -\n",
      "127.0.0.1 - - [20/Jun/2022 10:24:24] \"\u001b[37mGET /?app=index HTTP/1.1\u001b[0m\" 200 -\n",
      "127.0.0.1 - - [20/Jun/2022 10:24:24] \"\u001b[37mGET /?app=index HTTP/1.1\u001b[0m\" 200 -\n",
      "127.0.0.1 - - [20/Jun/2022 10:24:25] \"\u001b[37mPOST /?app=index HTTP/1.1\u001b[0m\" 200 -\n",
      "127.0.0.1 - - [20/Jun/2022 10:24:26] \"\u001b[37mGET /?app=index HTTP/1.1\u001b[0m\" 200 -\n",
      "127.0.0.1 - - [20/Jun/2022 10:24:26] \"\u001b[37mGET /?app=index HTTP/1.1\u001b[0m\" 200 -\n",
      "127.0.0.1 - - [20/Jun/2022 10:24:28] \"\u001b[37mGET /?app=index HTTP/1.1\u001b[0m\" 200 -\n",
      "127.0.0.1 - - [20/Jun/2022 10:24:28] \"\u001b[37mPOST /?app=index HTTP/1.1\u001b[0m\" 200 -\n"
     ]
    }
   ],
   "source": [
    "app=Flask(__name__)\n",
    "logre_model=pickle.load(open('C:/Users/saigo/Desktop/s/logre_model','rb'))\n",
    "#sample inputs\n",
    "#[0.11111111, 0.1       , 0.16129032, 0.02247191, 0.27184466,0.00297762, 0.04484908] - y=1\n",
    "def predict(): \n",
    "    user_input=[]\n",
    "    ss_user_input=[]\n",
    "    for i in cnames:\n",
    "        x=input(i+' :- ',type=FLOAT)\n",
    "        user_input.append(x)\n",
    "        \n",
    "    for i in range(len(user_input)):\n",
    "        ss = (user_input[i] - min(user_input))/(max(user_input) - min(user_input))\n",
    "        ss_user_input.append(ss)\n",
    "\n",
    "    ss_user_input=np.array(ss_user_input)\n",
    "    ss_user_input=ss_user_input.reshape(1,-1)\n",
    "    \n",
    "    prediction=logre_model.predict(ss_user_input)[0]\n",
    "    if prediction==1.0:\n",
    "        prediction='Yes'\n",
    "    else:\n",
    "        prediction='No'\n",
    "    put_text('prediction = %r' % prediction)\n",
    "        \n",
    "\n",
    "\n",
    "app.add_url_rule('/','webio_view',webio_view(predict),methods=['GET','POST','OPTIONS'])\n",
    "app.run(host='localhost',port=88)"
   ]
  },
  {
   "cell_type": "code",
   "execution_count": null,
   "metadata": {},
   "outputs": [],
   "source": [
    "X_train[1]"
   ]
  },
  {
   "cell_type": "code",
   "execution_count": null,
   "metadata": {},
   "outputs": [],
   "source": [
    "y_train[0]"
   ]
  },
  {
   "cell_type": "code",
   "execution_count": null,
   "metadata": {},
   "outputs": [],
   "source": [
    "sampleList = np.array(bank_1[:2])\n",
    "sampleList"
   ]
  },
  {
   "cell_type": "code",
   "execution_count": null,
   "metadata": {},
   "outputs": [],
   "source": [
    "bank_1.head()"
   ]
  },
  {
   "cell_type": "code",
   "execution_count": null,
   "metadata": {},
   "outputs": [],
   "source": [
    "#[32.35619303,  7.23615625,  2.60150296, 89.80156532,  9.3       ,11.359392  ,  5.008608  ,       ] - ouput -1\n",
    "#[27.        , 10.        ,  6.        , 31.        , 17.3       ,1.362202  ,  4.000798  ,      ]  -output -0 "
   ]
  }
 ],
 "metadata": {
  "colab": {
   "collapsed_sections": [
    "0old1rjqK7bZ"
   ],
   "name": "dddd.ipynb",
   "provenance": []
  },
  "kernelspec": {
   "display_name": "Python 3",
   "language": "python",
   "name": "python3"
  },
  "language_info": {
   "codemirror_mode": {
    "name": "ipython",
    "version": 3
   },
   "file_extension": ".py",
   "mimetype": "text/x-python",
   "name": "python",
   "nbconvert_exporter": "python",
   "pygments_lexer": "ipython3",
   "version": "3.7.10"
  }
 },
 "nbformat": 4,
 "nbformat_minor": 1
}
